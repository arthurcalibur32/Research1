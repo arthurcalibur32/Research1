{
 "cells": [
  {
   "cell_type": "code",
   "execution_count": 1,
   "metadata": {},
   "outputs": [],
   "source": [
    "#导入相关数据库\n",
    "from KRData.HKData import HKFuture\n",
    "import talib as ta\n",
    "import pandas as pd\n",
    "import numpy as np"
   ]
  },
  {
   "cell_type": "code",
   "execution_count": 2,
   "metadata": {},
   "outputs": [],
   "source": [
    "#导入相关数据库\n",
    "from KRData.HKData import HKFuture\n",
    "import talib\n",
    "import pandas as pd\n",
    "import numpy as np"
   ]
  },
  {
   "cell_type": "code",
   "execution_count": 3,
   "metadata": {},
   "outputs": [],
   "source": [
    "import datetime as dt"
   ]
  },
  {
   "cell_type": "code",
   "execution_count": 4,
   "metadata": {},
   "outputs": [],
   "source": [
    "#连接数据库\n",
    "hf = HKFuture('', '')"
   ]
  },
  {
   "cell_type": "code",
   "execution_count": 5,
   "metadata": {},
   "outputs": [],
   "source": [
    "#取数据，由20110101-20190401之间HSI的数据\n",
    "trade_dates=hf.get_main_contract_trade_dates('HSI','20110101','20190401')"
   ]
  },
  {
   "cell_type": "code",
   "execution_count": 6,
   "metadata": {},
   "outputs": [
    {
     "name": "stdout",
     "output_type": "stream",
     "text": [
      "code:HSI1101    2011-01-03 00:00:00->2011-01-28 00:00:00\n"
     ]
    },
    {
     "name": "stderr",
     "output_type": "stream",
     "text": [
      "D:\\Programs\\anaconda3\\lib\\site-packages\\ipykernel_launcher.py:24: SettingWithCopyWarning: \n",
      "A value is trying to be set on a copy of a slice from a DataFrame.\n",
      "Try using .loc[row_indexer,col_indexer] = value instead\n",
      "\n",
      "See the caveats in the documentation: http://pandas.pydata.org/pandas-docs/stable/indexing.html#indexing-view-versus-copy\n",
      "D:\\Programs\\anaconda3\\lib\\site-packages\\ipykernel_launcher.py:31: SettingWithCopyWarning: \n",
      "A value is trying to be set on a copy of a slice from a DataFrame.\n",
      "Try using .loc[row_indexer,col_indexer] = value instead\n",
      "\n",
      "See the caveats in the documentation: http://pandas.pydata.org/pandas-docs/stable/indexing.html#indexing-view-versus-copy\n",
      "D:\\Programs\\anaconda3\\lib\\site-packages\\ipykernel_launcher.py:32: SettingWithCopyWarning: \n",
      "A value is trying to be set on a copy of a slice from a DataFrame.\n",
      "Try using .loc[row_indexer,col_indexer] = value instead\n",
      "\n",
      "See the caveats in the documentation: http://pandas.pydata.org/pandas-docs/stable/indexing.html#indexing-view-versus-copy\n",
      "D:\\Programs\\anaconda3\\lib\\site-packages\\ipykernel_launcher.py:43: SettingWithCopyWarning: \n",
      "A value is trying to be set on a copy of a slice from a DataFrame.\n",
      "Try using .loc[row_indexer,col_indexer] = value instead\n",
      "\n",
      "See the caveats in the documentation: http://pandas.pydata.org/pandas-docs/stable/indexing.html#indexing-view-versus-copy\n",
      "D:\\Programs\\anaconda3\\lib\\site-packages\\ipykernel_launcher.py:44: SettingWithCopyWarning: \n",
      "A value is trying to be set on a copy of a slice from a DataFrame.\n",
      "Try using .loc[row_indexer,col_indexer] = value instead\n",
      "\n",
      "See the caveats in the documentation: http://pandas.pydata.org/pandas-docs/stable/indexing.html#indexing-view-versus-copy\n"
     ]
    },
    {
     "name": "stdout",
     "output_type": "stream",
     "text": [
      "code:HSI1102    2011-01-31 00:00:00->2011-02-25 00:00:00\n",
      "code:HSI1103    2011-02-28 00:00:00->2011-03-30 00:00:00\n",
      "code:HSI1104    2011-03-31 00:00:00->2011-04-28 00:00:00\n",
      "code:HSI1105    2011-04-29 00:00:00->2011-05-30 00:00:00\n",
      "code:HSI1106    2011-05-31 00:00:00->2011-06-29 00:00:00\n",
      "code:HSI1107    2011-06-30 00:00:00->2011-07-28 00:00:00\n",
      "code:HSI1108    2011-07-29 00:00:00->2011-08-30 00:00:00\n",
      "code:HSI1109    2011-08-31 00:00:00->2011-09-30 00:00:00\n",
      "code:HSI1110    2011-10-03 00:00:00->2011-10-28 00:00:00\n",
      "code:HSI1111    2011-10-31 00:00:00->2011-11-29 00:00:00\n",
      "code:HSI1112    2011-11-30 00:00:00->2011-12-29 00:00:00\n",
      "code:HSI1201    2011-12-30 00:00:00->2012-01-30 00:00:00\n",
      "code:HSI1202    2012-01-31 00:00:00->2012-02-28 00:00:00\n",
      "code:HSI1203    2012-02-29 00:00:00->2012-03-29 00:00:00\n",
      "code:HSI1204    2012-03-30 00:00:00->2012-04-27 00:00:00\n",
      "code:HSI1205    2012-04-30 00:00:00->2012-05-30 00:00:00\n",
      "code:HSI1206    2012-05-31 00:00:00->2012-06-28 00:00:00\n",
      "code:HSI1207    2012-06-29 00:00:00->2012-07-30 00:00:00\n",
      "code:HSI1208    2012-07-31 00:00:00->2012-08-30 00:00:00\n",
      "code:HSI1209    2012-08-31 00:00:00->2012-09-27 00:00:00\n",
      "code:HSI1210    2012-09-28 00:00:00->2012-10-30 00:00:00\n",
      "code:HSI1211    2012-10-31 00:00:00->2012-11-29 00:00:00\n",
      "code:HSI1212    2012-11-30 00:00:00->2012-12-28 00:00:00\n",
      "code:HSI1301    2012-12-31 00:00:00->2013-01-30 00:00:00\n",
      "code:HSI1302    2013-01-31 00:00:00->2013-02-27 00:00:00\n",
      "code:HSI1303    2013-02-28 00:00:00->2013-03-27 00:00:00\n",
      "code:HSI1304    2013-03-28 00:00:00->2013-04-29 00:00:00\n",
      "code:HSI1305    2013-04-30 00:00:00->2013-05-30 00:00:00\n",
      "code:HSI1306    2013-05-31 00:00:00->2013-06-27 00:00:00\n",
      "code:HSI1307    2013-06-28 00:00:00->2013-07-30 00:00:00\n",
      "code:HSI1308    2013-07-31 00:00:00->2013-08-29 00:00:00\n",
      "code:HSI1309    2013-08-30 00:00:00->2013-09-27 00:00:00\n",
      "code:HSI1310    2013-09-30 00:00:00->2013-10-30 00:00:00\n",
      "code:HSI1311    2013-10-31 00:00:00->2013-11-28 00:00:00\n",
      "code:HSI1312    2013-11-29 00:00:00->2013-12-30 00:00:00\n",
      "code:HSI1401    2013-12-31 00:00:00->2014-01-29 00:00:00\n",
      "code:HSI1402    2014-01-30 00:00:00->2014-02-27 00:00:00\n",
      "code:HSI1403    2014-02-28 00:00:00->2014-03-28 00:00:00\n",
      "code:HSI1404    2014-03-31 00:00:00->2014-04-29 00:00:00\n",
      "code:HSI1405    2014-04-30 00:00:00->2014-05-29 00:00:00\n",
      "code:HSI1406    2014-05-30 00:00:00->2014-06-27 00:00:00\n",
      "code:HSI1407    2014-06-30 00:00:00->2014-07-30 00:00:00\n",
      "code:HSI1408    2014-07-31 00:00:00->2014-08-28 00:00:00\n",
      "code:HSI1409    2014-08-29 00:00:00->2014-09-29 00:00:00\n",
      "code:HSI1410    2014-09-30 00:00:00->2014-10-30 00:00:00\n",
      "code:HSI1411    2014-10-31 00:00:00->2014-11-27 00:00:00\n",
      "code:HSI1412    2014-11-28 00:00:00->2014-12-30 00:00:00\n",
      "code:HSI1501    2014-12-31 00:00:00->2015-01-29 00:00:00\n",
      "code:HSI1502    2015-01-30 00:00:00->2015-02-26 00:00:00\n",
      "code:HSI1503    2015-02-27 00:00:00->2015-03-30 00:00:00\n",
      "code:HSI1504    2015-03-31 00:00:00->2015-04-29 00:00:00\n",
      "code:HSI1505    2015-04-30 00:00:00->2015-05-28 00:00:00\n",
      "code:HSI1506    2015-05-29 00:00:00->2015-06-29 00:00:00\n",
      "code:HSI1507    2015-06-30 00:00:00->2015-07-30 00:00:00\n",
      "code:HSI1508    2015-07-31 00:00:00->2015-08-28 00:00:00\n",
      "code:HSI1509    2015-08-31 00:00:00->2015-09-29 00:00:00\n",
      "code:HSI1510    2015-09-30 00:00:00->2015-10-29 00:00:00\n",
      "code:HSI1511    2015-10-30 00:00:00->2015-11-27 00:00:00\n",
      "code:HSI1512    2015-11-30 00:00:00->2015-12-30 00:00:00\n",
      "code:HSI1601    2015-12-31 00:00:00->2016-01-28 00:00:00\n",
      "code:HSI1602    2016-01-29 00:00:00->2016-02-26 00:00:00\n",
      "code:HSI1603    2016-02-29 00:00:00->2016-03-30 00:00:00\n",
      "code:HSI1604    2016-03-31 00:00:00->2016-04-28 00:00:00\n",
      "code:HSI1605    2016-04-29 00:00:00->2016-05-30 00:00:00\n",
      "code:HSI1606    2016-05-31 00:00:00->2016-06-29 00:00:00\n",
      "code:HSI1607    2016-06-30 00:00:00->2016-07-28 00:00:00\n",
      "code:HSI1608    2016-07-29 00:00:00->2016-08-30 00:00:00\n",
      "code:HSI1609    2016-08-31 00:00:00->2016-09-29 00:00:00\n",
      "code:HSI1610    2016-09-30 00:00:00->2016-10-28 00:00:00\n",
      "code:HSI1611    2016-10-31 00:00:00->2016-11-29 00:00:00\n",
      "code:HSI1612    2016-11-30 00:00:00->2016-12-29 00:00:00\n",
      "code:HSI1701    2016-12-30 00:00:00->2017-01-26 00:00:00\n",
      "code:HSI1702    2017-01-27 00:00:00->2017-02-27 00:00:00\n",
      "code:HSI1703    2017-02-28 00:00:00->2017-03-30 00:00:00\n",
      "code:HSI1704    2017-03-31 00:00:00->2017-04-27 00:00:00\n",
      "code:HSI1705    2017-04-28 00:00:00->2017-05-29 00:00:00\n",
      "code:HSI1706    2017-05-31 00:00:00->2017-06-29 00:00:00\n",
      "code:HSI1707    2017-06-30 00:00:00->2017-07-28 00:00:00\n",
      "code:HSI1708    2017-07-31 00:00:00->2017-08-30 00:00:00\n",
      "code:HSI1709    2017-08-31 00:00:00->2017-09-28 00:00:00\n",
      "code:HSI1710    2017-09-29 00:00:00->2017-10-30 00:00:00\n",
      "code:HSI1711    2017-10-31 00:00:00->2017-11-29 00:00:00\n",
      "code:HSI1712    2017-11-30 00:00:00->2017-12-28 00:00:00\n",
      "code:HSI1801    2017-12-29 00:00:00->2018-01-30 00:00:00\n",
      "code:HSI1802    2018-01-31 00:00:00->2018-02-27 00:00:00\n",
      "code:HSI1803    2018-02-28 00:00:00->2018-03-28 00:00:00\n",
      "code:HSI1804    2018-03-29 00:00:00->2018-04-27 00:00:00\n",
      "code:HSI1805    2018-04-30 00:00:00->2018-05-30 00:00:00\n",
      "code:HSI1806    2018-05-31 00:00:00->2018-06-28 00:00:00\n",
      "code:HSI1807    2018-06-29 00:00:00->2018-07-30 00:00:00\n",
      "code:HSI1808    2018-07-31 00:00:00->2018-08-30 00:00:00\n",
      "code:HSI1809    2018-08-31 00:00:00->2018-09-27 00:00:00\n",
      "code:HSI1810    2018-09-28 00:00:00->2018-10-30 00:00:00\n",
      "code:HSI1811    2018-10-31 00:00:00->2018-11-29 00:00:00\n",
      "code:HSI1812    2018-11-30 00:00:00->2018-12-28 00:00:00\n",
      "code:HSI1901    2018-12-31 00:00:00->2019-01-30 00:00:00\n",
      "code:HSI1902    2019-01-31 00:00:00->2019-02-27 00:00:00\n",
      "code:HSI1903    2019-02-28 00:00:00->2019-03-28 00:00:00\n",
      "code:HSI1904    2019-03-29 00:00:00->2019-04-01 00:00:00\n"
     ]
    }
   ],
   "source": [
    "ret_list=[]\n",
    "ret_list2=[]\n",
    "#设置一个循环来遍历每个合约的代码和对应的交易时间段\n",
    "for code,tds in trade_dates.items():\n",
    "    #输出结果\n",
    "    print(f'code:{code}    {tds[0]}->{tds[-1]}')\n",
    "    data=hf.get_bars(code,fields=['datetime','open','high','low','close','trade_date'],start=tds[0],end=tds[-1])\n",
    "    data['last_close'] = data['close'].shift(1)\n",
    "    #计算MA60\n",
    "    data['ma60']=talib.MA(data['close'],timeperiod=60)\n",
    "    data['gt_ma60']=data['close']>data['ma60']\n",
    "    data['gt_ma60_1']=data['gt_ma60'].shift(1).fillna(0)\n",
    "    #通过位运算确定金叉死叉情况，1为金叉，2为死叉\n",
    "    data['ma60_type'] = (data['gt_ma60_1'].values << 1) + data['gt_ma60'].values\n",
    "    #计算MACD\n",
    "    data['macd'],data['diff'],data['dea']=ta.MACD(data.close.values,fastperiod=6,slowperiod=12,signalperiod=9)\n",
    "    data['macd_gt0'] = (data['macd']>=0).astype(np.int8)\n",
    "    data['macd_gt0_1'] = (data['macd_gt0'].shift(1).fillna(0)).astype(np.int8)\n",
    "    #通过位运算计算红区和绿区\n",
    "    data['macd_type'] = (data['macd_gt0_1'].values << 1) + data['macd_gt0'].values\n",
    "    #取出MA60金叉死叉的两种情况\n",
    "    ma60_type = data[(data['ma60_type']==1)|(data['ma60_type']==2)]\n",
    "    #对应的时间做一个shift位移求用于之后求对应金叉死叉区间\n",
    "    ma60_type['datetime_1'] = ma60_type['datetime'].shift(-1)\n",
    "    #金叉情况\n",
    "    d=ma60_type[ma60_type['ma60_type']==1].loc[:, ['datetime', 'datetime_1']]\n",
    "    #这里增加了一个过滤条件，区间持续20分钟以上的才算一个\n",
    "    for i, r in d[(d['datetime_1'] - d['datetime']) > dt.timedelta(minutes=20)].iterrows():\n",
    "        ma60_df = data[r.datetime:r.datetime_1]\n",
    "        macd_type = ma60_df[(ma60_df['macd_type']==1)|(ma60_df['macd_type']==2)]\n",
    "        macd_type['macd_close'] = macd_type['close'].shift(-1)\n",
    "        macd_type['macd_section_pnl'] = macd_type['macd_close'] - macd_type['close']\n",
    "        ret = macd_type[macd_type['macd_type'] == 1].loc[:, ['macd_section_pnl']]\n",
    "        ret['count'] = range(len(ret))\n",
    "        ret_list.append(ret)\n",
    "\n",
    "        \n",
    "    #死叉情况\n",
    "    d=ma60_type[ma60_type['ma60_type']==2].loc[:, ['datetime', 'datetime_1']]\n",
    "    for i, r in d[(d['datetime_1'] - d['datetime']) > dt.timedelta(minutes=20)].iterrows():\n",
    "        ma60_df = data[r.datetime:r.datetime_1]\n",
    "        macd_type = ma60_df[(ma60_df['macd_type']==1)|(ma60_df['macd_type']==2)]\n",
    "        macd_type['macd_close'] = macd_type['close'].shift(-1)\n",
    "        macd_type['macd_section_pnl'] = macd_type['macd_close'] - macd_type['close']\n",
    "        ret = macd_type[macd_type['macd_type'] == 2].loc[:, ['macd_section_pnl']]\n",
    "        ret['count'] = range(len(ret))\n",
    "        ret_list2.append(ret)\n",
    "    "
   ]
  },
  {
   "cell_type": "code",
   "execution_count": 15,
   "metadata": {},
   "outputs": [],
   "source": [
    "total_ret1 = pd.concat([ ret for ret in ret_list])"
   ]
  },
  {
   "cell_type": "code",
   "execution_count": 13,
   "metadata": {},
   "outputs": [],
   "source": [
    "total_ret2 = pd.concat([ ret for ret in ret_list2])"
   ]
  },
  {
   "cell_type": "code",
   "execution_count": null,
   "metadata": {},
   "outputs": [],
   "source": [
    "#金叉统计情况"
   ]
  },
  {
   "cell_type": "code",
   "execution_count": 22,
   "metadata": {},
   "outputs": [
    {
     "name": "stdout",
     "output_type": "stream",
     "text": [
      "        count        mean        std    min     25%    50%     75%     max\n",
      "count                                                                     \n",
      "0.0    7669.0   14.152693  50.095082 -337.0   -7.00    2.0   23.00  1018.0\n",
      "1.0    4250.0    0.457882  36.092325 -451.0  -12.00   -5.0    2.00   366.0\n",
      "2.0    2106.0    0.783476  37.011453 -320.0  -12.00   -5.0    1.00   513.0\n",
      "3.0     938.0    2.320896  45.134856 -307.0  -11.00   -5.0    2.00   559.0\n",
      "4.0     382.0    0.633508  31.579533 -135.0  -12.00   -5.0    1.00   239.0\n",
      "5.0     149.0   -1.181208  27.461780 -148.0  -10.00   -5.0    1.00   127.0\n",
      "6.0      61.0   -0.163934  30.485068  -60.0  -10.00   -5.0    3.00   130.0\n",
      "7.0      27.0    6.444444  31.653574  -20.0  -11.00   -6.0    9.50   111.0\n",
      "8.0      14.0   -3.642857  15.494948  -21.0  -10.25   -5.5   -2.25    45.0\n",
      "9.0       4.0  -11.250000   6.652067  -18.0  -15.75  -12.0   -7.50    -3.0\n",
      "10.0      1.0  121.000000        NaN  121.0  121.00  121.0  121.00   121.0\n",
      "11.0      1.0  -12.000000        NaN  -12.0  -12.00  -12.0  -12.00   -12.0\n",
      "12.0      1.0   20.000000        NaN   20.0   20.00   20.0   20.00    20.0\n",
      "13.0      1.0  -20.000000        NaN  -20.0  -20.00  -20.0  -20.00   -20.0\n"
     ]
    }
   ],
   "source": [
    "print(total_ret1.groupby('count')['macd_section_pnl'].describe())"
   ]
  },
  {
   "cell_type": "code",
   "execution_count": 19,
   "metadata": {},
   "outputs": [
    {
     "name": "stdout",
     "output_type": "stream",
     "text": [
      "            sum        mean     max    min        std\n",
      "count                                                \n",
      "0.0    108537.0   14.152693  1018.0 -337.0  50.095082\n",
      "1.0      1946.0    0.457882   366.0 -451.0  36.092325\n",
      "2.0      1650.0    0.783476   513.0 -320.0  37.011453\n",
      "3.0      2177.0    2.320896   559.0 -307.0  45.134856\n",
      "4.0       242.0    0.633508   239.0 -135.0  31.579533\n",
      "5.0      -176.0   -1.181208   127.0 -148.0  27.461780\n",
      "6.0       -10.0   -0.163934   130.0  -60.0  30.485068\n",
      "7.0       174.0    6.444444   111.0  -20.0  31.653574\n",
      "8.0       -51.0   -3.642857    45.0  -21.0  15.494948\n",
      "9.0       -45.0  -11.250000    -3.0  -18.0   6.652067\n",
      "10.0      121.0  121.000000   121.0  121.0        NaN\n",
      "11.0      -12.0  -12.000000   -12.0  -12.0        NaN\n",
      "12.0       20.0   20.000000    20.0   20.0        NaN\n",
      "13.0      -20.0  -20.000000   -20.0  -20.0        NaN\n"
     ]
    }
   ],
   "source": [
    "print(total_ret1.groupby('count')['macd_section_pnl'].aggregate(['sum','mean','max','min','std']))"
   ]
  },
  {
   "cell_type": "code",
   "execution_count": null,
   "metadata": {},
   "outputs": [],
   "source": [
    "#死叉统计情况"
   ]
  },
  {
   "cell_type": "code",
   "execution_count": 20,
   "metadata": {},
   "outputs": [
    {
     "name": "stdout",
     "output_type": "stream",
     "text": [
      "        count       mean        std    min    25%   50%    75%    max\n",
      "count                                                                \n",
      "0.0    7289.0 -15.105090  57.010653 -775.0 -22.00  -2.0   8.00  594.0\n",
      "1.0    3966.0   0.123550  39.515494 -501.0  -1.00   6.0  13.00  453.0\n",
      "2.0    1823.0   0.744377  38.826480 -465.0  -1.00   6.0  13.00  521.0\n",
      "3.0     765.0  -0.881046  31.945064 -215.0  -1.00   6.0  13.00   68.0\n",
      "4.0     297.0  -1.629630  35.863257 -322.0  -2.00   6.0  13.00  149.0\n",
      "5.0     121.0  -4.528926  37.895267 -236.0  -5.00   6.0  11.00   54.0\n",
      "6.0      55.0  -2.436364  38.421523 -228.0 -13.00   6.0  15.50   36.0\n",
      "7.0      20.0   0.800000  47.672788 -131.0  -2.25   6.0  11.00  116.0\n",
      "8.0       4.0  11.500000  12.124356   -3.0   3.75  13.5  21.25   22.0\n",
      "9.0       2.0 -36.500000  16.263456  -48.0 -42.25 -36.5 -30.75  -25.0\n",
      "10.0      1.0 -29.000000        NaN  -29.0 -29.00 -29.0 -29.00  -29.0\n",
      "11.0      1.0 -13.000000        NaN  -13.0 -13.00 -13.0 -13.00  -13.0\n"
     ]
    }
   ],
   "source": [
    "print(total_ret2.groupby('count')['macd_section_pnl'].describe())"
   ]
  },
  {
   "cell_type": "code",
   "execution_count": 21,
   "metadata": {},
   "outputs": [
    {
     "name": "stdout",
     "output_type": "stream",
     "text": [
      "            sum       mean    max    min        std\n",
      "count                                              \n",
      "0.0   -110101.0 -15.105090  594.0 -775.0  57.010653\n",
      "1.0       490.0   0.123550  453.0 -501.0  39.515494\n",
      "2.0      1357.0   0.744377  521.0 -465.0  38.826480\n",
      "3.0      -674.0  -0.881046   68.0 -215.0  31.945064\n",
      "4.0      -484.0  -1.629630  149.0 -322.0  35.863257\n",
      "5.0      -548.0  -4.528926   54.0 -236.0  37.895267\n",
      "6.0      -134.0  -2.436364   36.0 -228.0  38.421523\n",
      "7.0        16.0   0.800000  116.0 -131.0  47.672788\n",
      "8.0        46.0  11.500000   22.0   -3.0  12.124356\n",
      "9.0       -73.0 -36.500000  -25.0  -48.0  16.263456\n",
      "10.0      -29.0 -29.000000  -29.0  -29.0        NaN\n",
      "11.0      -13.0 -13.000000  -13.0  -13.0        NaN\n"
     ]
    }
   ],
   "source": [
    "print(total_ret2.groupby('count')['macd_section_pnl'].aggregate(['sum','mean','max','min','std']))"
   ]
  },
  {
   "cell_type": "code",
   "execution_count": null,
   "metadata": {},
   "outputs": [],
   "source": [
    "#输出统计结果"
   ]
  },
  {
   "cell_type": "code",
   "execution_count": 23,
   "metadata": {},
   "outputs": [],
   "source": [
    "result1=total_ret1.groupby('count')['macd_section_pnl'].describe()"
   ]
  },
  {
   "cell_type": "code",
   "execution_count": 25,
   "metadata": {},
   "outputs": [],
   "source": [
    "result1.to_excel('金叉统计描述.xlsx')"
   ]
  },
  {
   "cell_type": "code",
   "execution_count": 26,
   "metadata": {},
   "outputs": [],
   "source": [
    "result2=total_ret1.groupby('count')['macd_section_pnl'].aggregate(['sum','mean','max','min','std'])"
   ]
  },
  {
   "cell_type": "code",
   "execution_count": 27,
   "metadata": {},
   "outputs": [],
   "source": [
    "result2.to_excel('金叉统计结果.xlsx')"
   ]
  },
  {
   "cell_type": "code",
   "execution_count": 34,
   "metadata": {},
   "outputs": [],
   "source": [
    "result3=total_ret2.groupby('count')['macd_section_pnl'].describe()"
   ]
  },
  {
   "cell_type": "code",
   "execution_count": 35,
   "metadata": {},
   "outputs": [],
   "source": [
    "result3.to_excel('死叉统计描述.xlsx')"
   ]
  },
  {
   "cell_type": "code",
   "execution_count": 36,
   "metadata": {},
   "outputs": [],
   "source": [
    "result4=total_ret2.groupby('count')['macd_section_pnl'].aggregate(['sum','mean','max','min','std'])"
   ]
  },
  {
   "cell_type": "code",
   "execution_count": 37,
   "metadata": {},
   "outputs": [],
   "source": [
    "result4.to_excel('死叉统计结果.xlsx')"
   ]
  },
  {
   "cell_type": "code",
   "execution_count": null,
   "metadata": {},
   "outputs": [],
   "source": []
  }
 ],
 "metadata": {
  "kernelspec": {
   "display_name": "Python 3",
   "language": "python",
   "name": "python3"
  },
  "language_info": {
   "codemirror_mode": {
    "name": "ipython",
    "version": 3
   },
   "file_extension": ".py",
   "mimetype": "text/x-python",
   "name": "python",
   "nbconvert_exporter": "python",
   "pygments_lexer": "ipython3",
   "version": "3.7.3"
  }
 },
 "nbformat": 4,
 "nbformat_minor": 2
}
