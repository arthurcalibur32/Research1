{
 "cells": [
  {
   "cell_type": "code",
   "execution_count": 1,
   "metadata": {},
   "outputs": [],
   "source": [
    "#导入相关数据库\n",
    "from KRData.HKData import HKFuture\n",
    "import talib as ta\n",
    "import pandas as pd\n",
    "import numpy as np\n",
    "import configparser"
   ]
  },
  {
   "cell_type": "code",
   "execution_count": 2,
   "metadata": {},
   "outputs": [],
   "source": [
    "#导入相关数据库\n",
    "from KRData.HKData import HKFuture\n",
    "import talib\n",
    "import pandas as pd\n",
    "import numpy as np"
   ]
  },
  {
   "cell_type": "code",
   "execution_count": 3,
   "metadata": {},
   "outputs": [
    {
     "name": "stdout",
     "output_type": "stream",
     "text": [
      "Populating the interactive namespace from numpy and matplotlib\n"
     ]
    }
   ],
   "source": [
    "#引入画图函数\n",
    "%pylab inline"
   ]
  },
  {
   "cell_type": "code",
   "execution_count": 4,
   "metadata": {},
   "outputs": [],
   "source": [
    "#连接数据库\n",
    "cfParser = configparser.ConfigParser()\n",
    "cfParser.read(r'config.ini')\n",
    "hkfuture_config = cfParser['HKFuture']\n",
    "hf = HKFuture(hkfuture_config.get('user'), hkfuture_config.get('password'))"
   ]
  },
  {
   "cell_type": "code",
   "execution_count": 7,
   "metadata": {},
   "outputs": [],
   "source": [
    "#取数据，由20110101-20190401之间HSI的数据\n",
    "trade_dates=hf.get_main_contract_trade_dates('HSI','20110101','20190401')"
   ]
  },
  {
   "cell_type": "code",
   "execution_count": 8,
   "metadata": {},
   "outputs": [],
   "source": [
    "#策略逻辑\n",
    "#构建开仓策略，后面用于循环\n",
    "def strategy(df:pd.DataFrame):  #传入一个dataframe作为参数\n",
    "    #设定每日交易时间\n",
    "    _df = df.between_time('9:15', '16:30')\n",
    "    #定义参数\n",
    "    _high_value=0\n",
    "    _low_value=600000\n",
    "    _macd_golden_count=0\n",
    "    _macd_dead_count=0\n",
    "    _highest = []\n",
    "    _lowest = []\n",
    "    #假如该交易日没有交易数据，则输出空值。\n",
    "    if len(_df) == 0:\n",
    "        _open = []\n",
    "        _close = []\n",
    "        _highest=[]\n",
    "        _lowest=[]\n",
    "        _diff=0\n",
    "        return  _open, _close,_highest,_lowest,_diff,_macd_golden_count,_macd_dead_count\n",
    "    #当开盘价大于MA60的时候,取highest\n",
    "    if _df.iloc[0]['gt_ma60']:\n",
    "        #记录下来第一根K线作为开始的最高价，然后跟后面的数据来比较\n",
    "        _highest=[_df.iloc[0]['datetime'],_df.iloc[0]['close']]\n",
    "        #记录下来open/开仓信息，信息为交易时间，方向，开盘价格\n",
    "        _open=[_df.iloc[0]['datetime'], '多', _df.iloc[0]['open']]\n",
    "        #在这个交易日剩下的序列中构造一个循环判断平仓的信息\n",
    "        for t, v in _df.iloc[1:].iterrows():\n",
    "            #取区间内的最高值\n",
    "            if v['close']>_high_value:\n",
    "                _high_value = v['close']\n",
    "                _highest=[v['datetime'],_high_value]\n",
    "            #在开多仓的情况下，如果K线下穿ma60，则记录平仓信息_close\n",
    "            if not v['gt_ma60']:\n",
    "                #记录平仓信息，其中包括在循环中第一个出现小于ma60的时间点，交易方向，开仓价格\n",
    "                _close=[v['datetime'], '空', v['open']]\n",
    "                break\n",
    "        #假如当日行情中没有成交，则在收盘的时候平仓\n",
    "        else:\n",
    "            _close=[_df.iloc[-1]['datetime'], '空', _df.iloc[-1]['open']]\n",
    "       \n",
    "        #MACD计数\n",
    "        #由入场到最高点之间的时间区域\n",
    "        _during_trading = _df[_open[0]: _highest[0]]['macd_type']\n",
    "        #计算出现了多少次金叉\n",
    "        _macd_golden_count = len(_during_trading[_during_trading == 2])\n",
    "        #计算出翔了多少次死叉\n",
    "        _macd_dead_count = len(_during_trading[_during_trading == 1])\n",
    "        #最高值与收盘价差值\n",
    "        _diff=_highest[1]-_df.at[_close[0], 'close']\n",
    "    \n",
    "    #开盘价小于ma60的情况，取lowest\n",
    "    else:\n",
    "        #记录下来第一根K线作为开始的最低价，然后跟后面的数据来比较\n",
    "        _lowest=[_df.iloc[0]['datetime'],_df.iloc[0]['close']]\n",
    "        #记录下来open/开仓信息，信息为交易时间，方向，开盘价格\n",
    "        _open=[_df.iloc[0]['datetime'], '空', _df.iloc[0]['open']]\n",
    "        #在这个交易日剩下的序列中构造一个循环来判断平仓信息\n",
    "        for t, v in _df.iloc[1:].iterrows():\n",
    "            #取区间内的最低值\n",
    "            if v['close']<_low_value:\n",
    "                _low_value = v['close']\n",
    "                _lowest=[v['datetime'],_low_value]\n",
    "            #在开空仓的情况下，如果K线上穿ma60，则记录平仓信息_close\n",
    "            if v['gt_ma60']:\n",
    "                #记录平仓信息，其中包括在循环中第一个出现大于ma60的时间点，交易方向，开仓价格\n",
    "                _close=[v['datetime'], '多', v['open']]\n",
    "                break\n",
    "        #假如在当日行情中没有成交的话，则在收盘的时候平仓\n",
    "        else:\n",
    "            _close=[_df.iloc[-1]['datetime'], '多', _df.iloc[-1]['open']]\n",
    "        \n",
    "        #MACD计算\n",
    "        _during_trading = _df[_open[0]: _lowest[0]]['macd_type']\n",
    "        _macd_golden_count = len(_during_trading[_during_trading == 2])\n",
    "        _macd_dead_count = len(_during_trading[_during_trading == 1])\n",
    "        #计算出场点和最低点的差值\n",
    "        _diff=_df.at[_close[0], 'close'] - _lowest[1]\n",
    " \n",
    "    #返回_open和_close值，_highest值,_lowest值\n",
    "    return   _open, _close,_highest,_lowest,_diff,_macd_golden_count,_macd_dead_count"
   ]
  },
  {
   "cell_type": "code",
   "execution_count": 9,
   "metadata": {},
   "outputs": [
    {
     "name": "stdout",
     "output_type": "stream",
     "text": [
      "code:HSI1101    2011-01-03 00:00:00->2011-01-28 00:00:00\n",
      "code:HSI1102    2011-01-31 00:00:00->2011-02-25 00:00:00\n",
      "code:HSI1103    2011-02-28 00:00:00->2011-03-30 00:00:00\n",
      "code:HSI1104    2011-03-31 00:00:00->2011-04-28 00:00:00\n",
      "code:HSI1105    2011-04-29 00:00:00->2011-05-30 00:00:00\n",
      "code:HSI1106    2011-05-31 00:00:00->2011-06-29 00:00:00\n",
      "code:HSI1107    2011-06-30 00:00:00->2011-07-28 00:00:00\n",
      "code:HSI1108    2011-07-29 00:00:00->2011-08-30 00:00:00\n",
      "code:HSI1109    2011-08-31 00:00:00->2011-09-30 00:00:00\n",
      "code:HSI1110    2011-10-03 00:00:00->2011-10-28 00:00:00\n",
      "code:HSI1111    2011-10-31 00:00:00->2011-11-29 00:00:00\n",
      "code:HSI1112    2011-11-30 00:00:00->2011-12-29 00:00:00\n",
      "code:HSI1201    2011-12-30 00:00:00->2012-01-30 00:00:00\n",
      "code:HSI1202    2012-01-31 00:00:00->2012-02-28 00:00:00\n",
      "code:HSI1203    2012-02-29 00:00:00->2012-03-29 00:00:00\n",
      "code:HSI1204    2012-03-30 00:00:00->2012-04-27 00:00:00\n",
      "code:HSI1205    2012-04-30 00:00:00->2012-05-30 00:00:00\n",
      "code:HSI1206    2012-05-31 00:00:00->2012-06-28 00:00:00\n",
      "code:HSI1207    2012-06-29 00:00:00->2012-07-30 00:00:00\n",
      "code:HSI1208    2012-07-31 00:00:00->2012-08-30 00:00:00\n",
      "code:HSI1209    2012-08-31 00:00:00->2012-09-27 00:00:00\n",
      "code:HSI1210    2012-09-28 00:00:00->2012-10-30 00:00:00\n",
      "code:HSI1211    2012-10-31 00:00:00->2012-11-29 00:00:00\n",
      "code:HSI1212    2012-11-30 00:00:00->2012-12-28 00:00:00\n",
      "code:HSI1301    2012-12-31 00:00:00->2013-01-30 00:00:00\n",
      "code:HSI1302    2013-01-31 00:00:00->2013-02-27 00:00:00\n",
      "code:HSI1303    2013-02-28 00:00:00->2013-03-27 00:00:00\n",
      "code:HSI1304    2013-03-28 00:00:00->2013-04-29 00:00:00\n",
      "code:HSI1305    2013-04-30 00:00:00->2013-05-30 00:00:00\n",
      "code:HSI1306    2013-05-31 00:00:00->2013-06-27 00:00:00\n",
      "code:HSI1307    2013-06-28 00:00:00->2013-07-30 00:00:00\n",
      "code:HSI1308    2013-07-31 00:00:00->2013-08-29 00:00:00\n",
      "code:HSI1309    2013-08-30 00:00:00->2013-09-27 00:00:00\n",
      "code:HSI1310    2013-09-30 00:00:00->2013-10-30 00:00:00\n",
      "code:HSI1311    2013-10-31 00:00:00->2013-11-28 00:00:00\n",
      "code:HSI1312    2013-11-29 00:00:00->2013-12-30 00:00:00\n",
      "code:HSI1401    2013-12-31 00:00:00->2014-01-29 00:00:00\n",
      "code:HSI1402    2014-01-30 00:00:00->2014-02-27 00:00:00\n",
      "code:HSI1403    2014-02-28 00:00:00->2014-03-28 00:00:00\n",
      "code:HSI1404    2014-03-31 00:00:00->2014-04-29 00:00:00\n",
      "code:HSI1405    2014-04-30 00:00:00->2014-05-29 00:00:00\n",
      "code:HSI1406    2014-05-30 00:00:00->2014-06-27 00:00:00\n",
      "code:HSI1407    2014-06-30 00:00:00->2014-07-30 00:00:00\n",
      "code:HSI1408    2014-07-31 00:00:00->2014-08-28 00:00:00\n",
      "code:HSI1409    2014-08-29 00:00:00->2014-09-29 00:00:00\n",
      "code:HSI1410    2014-09-30 00:00:00->2014-10-30 00:00:00\n",
      "code:HSI1411    2014-10-31 00:00:00->2014-11-27 00:00:00\n",
      "code:HSI1412    2014-11-28 00:00:00->2014-12-30 00:00:00\n",
      "code:HSI1501    2014-12-31 00:00:00->2015-01-29 00:00:00\n",
      "code:HSI1502    2015-01-30 00:00:00->2015-02-26 00:00:00\n",
      "code:HSI1503    2015-02-27 00:00:00->2015-03-30 00:00:00\n",
      "code:HSI1504    2015-03-31 00:00:00->2015-04-29 00:00:00\n",
      "code:HSI1505    2015-04-30 00:00:00->2015-05-28 00:00:00\n",
      "code:HSI1506    2015-05-29 00:00:00->2015-06-29 00:00:00\n",
      "code:HSI1507    2015-06-30 00:00:00->2015-07-30 00:00:00\n",
      "code:HSI1508    2015-07-31 00:00:00->2015-08-28 00:00:00\n",
      "code:HSI1509    2015-08-31 00:00:00->2015-09-29 00:00:00\n",
      "code:HSI1510    2015-09-30 00:00:00->2015-10-29 00:00:00\n",
      "code:HSI1511    2015-10-30 00:00:00->2015-11-27 00:00:00\n",
      "code:HSI1512    2015-11-30 00:00:00->2015-12-30 00:00:00\n",
      "code:HSI1601    2015-12-31 00:00:00->2016-01-28 00:00:00\n",
      "code:HSI1602    2016-01-29 00:00:00->2016-02-26 00:00:00\n",
      "code:HSI1603    2016-02-29 00:00:00->2016-03-30 00:00:00\n",
      "code:HSI1604    2016-03-31 00:00:00->2016-04-28 00:00:00\n",
      "code:HSI1605    2016-04-29 00:00:00->2016-05-30 00:00:00\n",
      "code:HSI1606    2016-05-31 00:00:00->2016-06-29 00:00:00\n",
      "code:HSI1607    2016-06-30 00:00:00->2016-07-28 00:00:00\n",
      "code:HSI1608    2016-07-29 00:00:00->2016-08-30 00:00:00\n",
      "code:HSI1609    2016-08-31 00:00:00->2016-09-29 00:00:00\n",
      "code:HSI1610    2016-09-30 00:00:00->2016-10-28 00:00:00\n",
      "code:HSI1611    2016-10-31 00:00:00->2016-11-29 00:00:00\n",
      "code:HSI1612    2016-11-30 00:00:00->2016-12-29 00:00:00\n",
      "code:HSI1701    2016-12-30 00:00:00->2017-01-26 00:00:00\n",
      "code:HSI1702    2017-01-27 00:00:00->2017-02-27 00:00:00\n",
      "code:HSI1703    2017-02-28 00:00:00->2017-03-30 00:00:00\n",
      "code:HSI1704    2017-03-31 00:00:00->2017-04-27 00:00:00\n",
      "code:HSI1705    2017-04-28 00:00:00->2017-05-29 00:00:00\n",
      "code:HSI1706    2017-05-31 00:00:00->2017-06-29 00:00:00\n",
      "code:HSI1707    2017-06-30 00:00:00->2017-07-28 00:00:00\n",
      "code:HSI1708    2017-07-31 00:00:00->2017-08-30 00:00:00\n",
      "code:HSI1709    2017-08-31 00:00:00->2017-09-28 00:00:00\n",
      "code:HSI1710    2017-09-29 00:00:00->2017-10-30 00:00:00\n",
      "code:HSI1711    2017-10-31 00:00:00->2017-11-29 00:00:00\n",
      "code:HSI1712    2017-11-30 00:00:00->2017-12-28 00:00:00\n",
      "code:HSI1801    2017-12-29 00:00:00->2018-01-30 00:00:00\n",
      "code:HSI1802    2018-01-31 00:00:00->2018-02-27 00:00:00\n",
      "code:HSI1803    2018-02-28 00:00:00->2018-03-28 00:00:00\n",
      "code:HSI1804    2018-03-29 00:00:00->2018-04-27 00:00:00\n",
      "code:HSI1805    2018-04-30 00:00:00->2018-05-30 00:00:00\n",
      "code:HSI1806    2018-05-31 00:00:00->2018-06-28 00:00:00\n",
      "code:HSI1807    2018-06-29 00:00:00->2018-07-30 00:00:00\n",
      "code:HSI1808    2018-07-31 00:00:00->2018-08-30 00:00:00\n",
      "code:HSI1809    2018-08-31 00:00:00->2018-09-27 00:00:00\n",
      "code:HSI1810    2018-09-28 00:00:00->2018-10-30 00:00:00\n",
      "code:HSI1811    2018-10-31 00:00:00->2018-11-29 00:00:00\n",
      "code:HSI1812    2018-11-30 00:00:00->2018-12-28 00:00:00\n",
      "code:HSI1901    2018-12-31 00:00:00->2019-01-30 00:00:00\n",
      "code:HSI1902    2019-01-31 00:00:00->2019-02-27 00:00:00\n",
      "code:HSI1903    2019-02-28 00:00:00->2019-03-28 00:00:00\n",
      "code:HSI1904    2019-03-29 00:00:00->2019-04-01 00:00:00\n"
     ]
    }
   ],
   "source": [
    "#通用函数计算\n",
    "#创建一个列表来装计算出来的结果\n",
    "ret_list=[]\n",
    "#设置一个循环来遍历每个合约的代码和对应的交易时间段\n",
    "for code,tds in trade_dates.items():\n",
    "    #输出结果\n",
    "    print(f'code:{code}    {tds[0]}->{tds[-1]}')\n",
    "    #取数据的函数\n",
    "    data=hf.get_bars(code,fields=['datetime','open','high','low','close','trade_date'],start=tds[0],end=tds[-1])\n",
    "    data_head: pd.DataFrame=hf.get_bars(code,fields=['datetime','open','high','low','close','trade_date'],end=data.iloc[0]['datetime'],bar_counts=60)[:-1]\n",
    "    data = data_head.append(data)\n",
    "    data['last_close'] = data['close'].shift(1)\n",
    "    data['ma60']=talib.MA(data['close'],timeperiod=60)\n",
    "    data['gt_ma60']=data['close']>data['ma60']\n",
    "    #通过位元算来计算金叉死叉出现的次数\n",
    "    data['macd'],data['diff'],data['dea']=ta.MACD(data.close.values,fastperiod=6,slowperiod=12,signalperiod=9)\n",
    "    data['macd_gt0'] = (data['macd']>=0).astype(np.int8)\n",
    "    data['macd_gt0_1'] = (data['macd_gt0'].shift(1).fillna(0)).astype(np.int8)\n",
    "    data['macd_type'] = (data['macd_gt0_1'].values << 1) + data['macd_gt0'].values\n",
    "    #按日期分组函数\n",
    "    g=data.groupby('trade_date')\n",
    "    #按日期来执行策略\n",
    "    ret=g.apply(strategy)\n",
    "    #将结果组合起来\n",
    "    ret_list.append(ret)"
   ]
  },
  {
   "cell_type": "code",
   "execution_count": 10,
   "metadata": {},
   "outputs": [],
   "source": [
    "#计算pnl\n",
    "def calc_pnl(s):\n",
    "    _open=s[0]\n",
    "    _close=s[1]\n",
    "    if _open and _close:\n",
    "        #开盘价的取值，如果开盘开多单的话，取-_open[2],如果开空单的话，取_open[2]\n",
    "        _open_values=_open[2] if _open[1]=='空' else -_open[2]\n",
    "        #平仓的时候取值，如果平仓时开的是多单则取-_close[2],如果开多单的话，取_close[2]\n",
    "        _close_values=_close[2] if _close[1]=='空' else -_close[2]\n",
    "        \n",
    "        return _open_values + _close_values\n",
    "    \n",
    "    else:\n",
    "        return np.nan    "
   ]
  },
  {
   "cell_type": "code",
   "execution_count": 11,
   "metadata": {},
   "outputs": [
    {
     "data": {
      "text/html": [
       "<div>\n",
       "<style scoped>\n",
       "    .dataframe tbody tr th:only-of-type {\n",
       "        vertical-align: middle;\n",
       "    }\n",
       "\n",
       "    .dataframe tbody tr th {\n",
       "        vertical-align: top;\n",
       "    }\n",
       "\n",
       "    .dataframe thead th {\n",
       "        text-align: right;\n",
       "    }\n",
       "</style>\n",
       "<table border=\"1\" class=\"dataframe\">\n",
       "  <thead>\n",
       "    <tr style=\"text-align: right;\">\n",
       "      <th></th>\n",
       "      <th>_diff</th>\n",
       "      <th>golden</th>\n",
       "      <th>dead</th>\n",
       "      <th>pnl</th>\n",
       "    </tr>\n",
       "    <tr>\n",
       "      <th>trade_date</th>\n",
       "      <th></th>\n",
       "      <th></th>\n",
       "      <th></th>\n",
       "      <th></th>\n",
       "    </tr>\n",
       "  </thead>\n",
       "  <tbody>\n",
       "    <tr>\n",
       "      <th>2011-01-03</th>\n",
       "      <td>213.0</td>\n",
       "      <td>0</td>\n",
       "      <td>0</td>\n",
       "      <td>13.0</td>\n",
       "    </tr>\n",
       "    <tr>\n",
       "      <th>2011-01-04</th>\n",
       "      <td>60.0</td>\n",
       "      <td>0</td>\n",
       "      <td>1</td>\n",
       "      <td>49.0</td>\n",
       "    </tr>\n",
       "    <tr>\n",
       "      <th>2011-01-05</th>\n",
       "      <td>62.0</td>\n",
       "      <td>1</td>\n",
       "      <td>0</td>\n",
       "      <td>-24.0</td>\n",
       "    </tr>\n",
       "    <tr>\n",
       "      <th>2011-01-06</th>\n",
       "      <td>70.0</td>\n",
       "      <td>0</td>\n",
       "      <td>0</td>\n",
       "      <td>-43.0</td>\n",
       "    </tr>\n",
       "    <tr>\n",
       "      <th>2011-01-07</th>\n",
       "      <td>0.0</td>\n",
       "      <td>0</td>\n",
       "      <td>0</td>\n",
       "      <td>0.0</td>\n",
       "    </tr>\n",
       "    <tr>\n",
       "      <th>2011-01-10</th>\n",
       "      <td>34.0</td>\n",
       "      <td>1</td>\n",
       "      <td>0</td>\n",
       "      <td>-51.0</td>\n",
       "    </tr>\n",
       "    <tr>\n",
       "      <th>2011-01-11</th>\n",
       "      <td>115.0</td>\n",
       "      <td>0</td>\n",
       "      <td>1</td>\n",
       "      <td>-13.0</td>\n",
       "    </tr>\n",
       "    <tr>\n",
       "      <th>2011-01-12</th>\n",
       "      <td>67.0</td>\n",
       "      <td>2</td>\n",
       "      <td>2</td>\n",
       "      <td>123.0</td>\n",
       "    </tr>\n",
       "    <tr>\n",
       "      <th>2011-01-13</th>\n",
       "      <td>76.0</td>\n",
       "      <td>1</td>\n",
       "      <td>1</td>\n",
       "      <td>-8.0</td>\n",
       "    </tr>\n",
       "    <tr>\n",
       "      <th>2011-01-14</th>\n",
       "      <td>38.0</td>\n",
       "      <td>1</td>\n",
       "      <td>0</td>\n",
       "      <td>39.0</td>\n",
       "    </tr>\n",
       "  </tbody>\n",
       "</table>\n",
       "</div>"
      ],
      "text/plain": [
       "            _diff  golden  dead    pnl\n",
       "trade_date                            \n",
       "2011-01-03  213.0       0     0   13.0\n",
       "2011-01-04   60.0       0     1   49.0\n",
       "2011-01-05   62.0       1     0  -24.0\n",
       "2011-01-06   70.0       0     0  -43.0\n",
       "2011-01-07    0.0       0     0    0.0\n",
       "2011-01-10   34.0       1     0  -51.0\n",
       "2011-01-11  115.0       0     1  -13.0\n",
       "2011-01-12   67.0       2     2  123.0\n",
       "2011-01-13   76.0       1     1   -8.0\n",
       "2011-01-14   38.0       1     0   39.0"
      ]
     },
     "execution_count": 11,
     "metadata": {},
     "output_type": "execute_result"
    }
   ],
   "source": [
    "#将结果整合在一起\n",
    "total_results=pd.concat(ret_list)\n",
    "total_results_df = pd.DataFrame({'_diff': total_results.str[4], 'golden': total_results.str[5], 'dead': total_results.str[6], 'pnl': total_results.apply(calc_pnl)})\n",
    "total_results_df.head(10)"
   ]
  },
  {
   "cell_type": "code",
   "execution_count": 14,
   "metadata": {},
   "outputs": [],
   "source": [
    "#基于金叉的出现次数进行统计"
   ]
  },
  {
   "cell_type": "code",
   "execution_count": 15,
   "metadata": {},
   "outputs": [
    {
     "data": {
      "image/png": "[encoded data removed]",
      "text/plain": [
       "<Figure size 432x288 with 4 Axes>"
      ]
     },
     "metadata": {
      "needs_background": "light"
     },
     "output_type": "display_data"
    },
    {
     "data": {
      "image/png": "[encoded data removed]",
      "text/plain": [
       "<Figure size 432x288 with 4 Axes>"
      ]
     },
     "metadata": {
      "needs_background": "light"
     },
     "output_type": "display_data"
    },
    {
     "data": {
      "image/png": "[encoded data removed]",
      "text/plain": [
       "<Figure size 432x288 with 4 Axes>"
      ]
     },
     "metadata": {
      "needs_background": "light"
     },
     "output_type": "display_data"
    },
    {
     "data": {
      "image/png": "[encoded data removed]",
      "text/plain": [
       "<Figure size 432x288 with 4 Axes>"
      ]
     },
     "metadata": {
      "needs_background": "light"
     },
     "output_type": "display_data"
    },
    {
     "data": {
      "image/png": "[encoded data removed]",
      "text/plain": [
       "<Figure size 432x288 with 4 Axes>"
      ]
     },
     "metadata": {
      "needs_background": "light"
     },
     "output_type": "display_data"
    },
    {
     "data": {
      "image/png": "[encoded data removed]",
      "text/plain": [
       "<Figure size 432x288 with 4 Axes>"
      ]
     },
     "metadata": {
      "needs_background": "light"
     },
     "output_type": "display_data"
    },
    {
     "data": {
      "image/png": "[encoded data removed]",
      "text/plain": [
       "<Figure size 432x288 with 4 Axes>"
      ]
     },
     "metadata": {
      "needs_background": "light"
     },
     "output_type": "display_data"
    },
    {
     "data": {
      "image/png": "[encoded data removed]",
      "text/plain": [
       "<Figure size 432x288 with 4 Axes>"
      ]
     },
     "metadata": {
      "needs_background": "light"
     },
     "output_type": "display_data"
    },
    {
     "data": {
      "image/png": "[encoded data removed]",
      "text/plain": [
       "<Figure size 432x288 with 4 Axes>"
      ]
     },
     "metadata": {
      "needs_background": "light"
     },
     "output_type": "display_data"
    }
   ],
   "source": [
    "#统计在金叉出现不同次数下，其他参数的分布情况\n",
    "for k, v in total_results_df.groupby('golden'):\n",
    "    v.hist()"
   ]
  },
  {
   "cell_type": "code",
   "execution_count": 16,
   "metadata": {},
   "outputs": [],
   "source": [
    "groupbyG=total_results_df.groupby('golden')"
   ]
  },
  {
   "cell_type": "code",
   "execution_count": 17,
   "metadata": {},
   "outputs": [
    {
     "data": {
      "text/plain": [
       "golden\n",
       "0    1221\n",
       "1     615\n",
       "2     163\n",
       "3      76\n",
       "4      31\n",
       "5       8\n",
       "6       8\n",
       "7       4\n",
       "8       1\n",
       "Name: pnl, dtype: int64"
      ]
     },
     "execution_count": 17,
     "metadata": {},
     "output_type": "execute_result"
    }
   ],
   "source": [
    "groupbyG['pnl'].count()"
   ]
  },
  {
   "cell_type": "code",
   "execution_count": 18,
   "metadata": {},
   "outputs": [
    {
     "data": {
      "text/plain": [
       "golden\n",
       "0    -1929.0\n",
       "1    17661.0\n",
       "2    15013.0\n",
       "3    10924.0\n",
       "4     6590.0\n",
       "5      850.0\n",
       "6     1779.0\n",
       "7      882.0\n",
       "8      200.0\n",
       "Name: pnl, dtype: float64"
      ]
     },
     "execution_count": 18,
     "metadata": {},
     "output_type": "execute_result"
    }
   ],
   "source": [
    "groupbyG['pnl'].sum()"
   ]
  },
  {
   "cell_type": "code",
   "execution_count": 19,
   "metadata": {},
   "outputs": [
    {
     "data": {
      "text/plain": [
       "golden\n",
       "0     -1.579853\n",
       "1     28.717073\n",
       "2     92.104294\n",
       "3    143.736842\n",
       "4    212.580645\n",
       "5    106.250000\n",
       "6    222.375000\n",
       "7    220.500000\n",
       "8    200.000000\n",
       "Name: pnl, dtype: float64"
      ]
     },
     "execution_count": 19,
     "metadata": {},
     "output_type": "execute_result"
    }
   ],
   "source": [
    "groupbyG['pnl'].mean()"
   ]
  },
  {
   "cell_type": "code",
   "execution_count": 20,
   "metadata": {},
   "outputs": [
    {
     "data": {
      "text/plain": [
       "golden\n",
       "0    678.0\n",
       "1    381.0\n",
       "2    875.0\n",
       "3    611.0\n",
       "4    650.0\n",
       "5    183.0\n",
       "6    679.0\n",
       "7    320.0\n",
       "8    200.0\n",
       "Name: pnl, dtype: float64"
      ]
     },
     "execution_count": 20,
     "metadata": {},
     "output_type": "execute_result"
    }
   ],
   "source": [
    "groupbyG['pnl'].max()"
   ]
  },
  {
   "cell_type": "code",
   "execution_count": 21,
   "metadata": {},
   "outputs": [
    {
     "data": {
      "text/plain": [
       "golden\n",
       "0   -324.0\n",
       "1   -224.0\n",
       "2   -179.0\n",
       "3    -28.0\n",
       "4     19.0\n",
       "5     40.0\n",
       "6     63.0\n",
       "7    137.0\n",
       "8    200.0\n",
       "Name: pnl, dtype: float64"
      ]
     },
     "execution_count": 21,
     "metadata": {},
     "output_type": "execute_result"
    }
   ],
   "source": [
    "groupbyG['pnl'].min()"
   ]
  },
  {
   "cell_type": "code",
   "execution_count": 22,
   "metadata": {},
   "outputs": [],
   "source": [
    "ret1 = pd.DataFrame({'count':groupbyG['pnl'].count(),'max':groupbyG['pnl'].max(), 'min':groupbyG['pnl'].min(),  'mean':groupbyG['pnl'].mean(), 'sum':groupbyG['pnl'].sum()})"
   ]
  },
  {
   "cell_type": "code",
   "execution_count": 23,
   "metadata": {},
   "outputs": [
    {
     "data": {
      "text/html": [
       "<div>\n",
       "<style scoped>\n",
       "    .dataframe tbody tr th:only-of-type {\n",
       "        vertical-align: middle;\n",
       "    }\n",
       "\n",
       "    .dataframe tbody tr th {\n",
       "        vertical-align: top;\n",
       "    }\n",
       "\n",
       "    .dataframe thead th {\n",
       "        text-align: right;\n",
       "    }\n",
       "</style>\n",
       "<table border=\"1\" class=\"dataframe\">\n",
       "  <thead>\n",
       "    <tr style=\"text-align: right;\">\n",
       "      <th></th>\n",
       "      <th>count</th>\n",
       "      <th>max</th>\n",
       "      <th>min</th>\n",
       "      <th>mean</th>\n",
       "      <th>sum</th>\n",
       "    </tr>\n",
       "    <tr>\n",
       "      <th>golden</th>\n",
       "      <th></th>\n",
       "      <th></th>\n",
       "      <th></th>\n",
       "      <th></th>\n",
       "      <th></th>\n",
       "    </tr>\n",
       "  </thead>\n",
       "  <tbody>\n",
       "    <tr>\n",
       "      <th>0</th>\n",
       "      <td>1221</td>\n",
       "      <td>678.0</td>\n",
       "      <td>-324.0</td>\n",
       "      <td>-1.579853</td>\n",
       "      <td>-1929.0</td>\n",
       "    </tr>\n",
       "    <tr>\n",
       "      <th>1</th>\n",
       "      <td>615</td>\n",
       "      <td>381.0</td>\n",
       "      <td>-224.0</td>\n",
       "      <td>28.717073</td>\n",
       "      <td>17661.0</td>\n",
       "    </tr>\n",
       "    <tr>\n",
       "      <th>2</th>\n",
       "      <td>163</td>\n",
       "      <td>875.0</td>\n",
       "      <td>-179.0</td>\n",
       "      <td>92.104294</td>\n",
       "      <td>15013.0</td>\n",
       "    </tr>\n",
       "    <tr>\n",
       "      <th>3</th>\n",
       "      <td>76</td>\n",
       "      <td>611.0</td>\n",
       "      <td>-28.0</td>\n",
       "      <td>143.736842</td>\n",
       "      <td>10924.0</td>\n",
       "    </tr>\n",
       "    <tr>\n",
       "      <th>4</th>\n",
       "      <td>31</td>\n",
       "      <td>650.0</td>\n",
       "      <td>19.0</td>\n",
       "      <td>212.580645</td>\n",
       "      <td>6590.0</td>\n",
       "    </tr>\n",
       "    <tr>\n",
       "      <th>5</th>\n",
       "      <td>8</td>\n",
       "      <td>183.0</td>\n",
       "      <td>40.0</td>\n",
       "      <td>106.250000</td>\n",
       "      <td>850.0</td>\n",
       "    </tr>\n",
       "    <tr>\n",
       "      <th>6</th>\n",
       "      <td>8</td>\n",
       "      <td>679.0</td>\n",
       "      <td>63.0</td>\n",
       "      <td>222.375000</td>\n",
       "      <td>1779.0</td>\n",
       "    </tr>\n",
       "    <tr>\n",
       "      <th>7</th>\n",
       "      <td>4</td>\n",
       "      <td>320.0</td>\n",
       "      <td>137.0</td>\n",
       "      <td>220.500000</td>\n",
       "      <td>882.0</td>\n",
       "    </tr>\n",
       "    <tr>\n",
       "      <th>8</th>\n",
       "      <td>1</td>\n",
       "      <td>200.0</td>\n",
       "      <td>200.0</td>\n",
       "      <td>200.000000</td>\n",
       "      <td>200.0</td>\n",
       "    </tr>\n",
       "  </tbody>\n",
       "</table>\n",
       "</div>"
      ],
      "text/plain": [
       "        count    max    min        mean      sum\n",
       "golden                                          \n",
       "0        1221  678.0 -324.0   -1.579853  -1929.0\n",
       "1         615  381.0 -224.0   28.717073  17661.0\n",
       "2         163  875.0 -179.0   92.104294  15013.0\n",
       "3          76  611.0  -28.0  143.736842  10924.0\n",
       "4          31  650.0   19.0  212.580645   6590.0\n",
       "5           8  183.0   40.0  106.250000    850.0\n",
       "6           8  679.0   63.0  222.375000   1779.0\n",
       "7           4  320.0  137.0  220.500000    882.0\n",
       "8           1  200.0  200.0  200.000000    200.0"
      ]
     },
     "execution_count": 23,
     "metadata": {},
     "output_type": "execute_result"
    }
   ],
   "source": [
    "ret1"
   ]
  },
  {
   "cell_type": "code",
   "execution_count": 24,
   "metadata": {},
   "outputs": [],
   "source": [
    "ret1.to_excel('基于金叉统计结果.xlsx')"
   ]
  },
  {
   "cell_type": "code",
   "execution_count": 25,
   "metadata": {},
   "outputs": [],
   "source": [
    "#基于死叉出现的情况进行统计"
   ]
  },
  {
   "cell_type": "code",
   "execution_count": 26,
   "metadata": {},
   "outputs": [],
   "source": [
    "groupbyD=total_results_df.groupby('dead')"
   ]
  },
  {
   "cell_type": "code",
   "execution_count": 27,
   "metadata": {},
   "outputs": [
    {
     "data": {
      "text/plain": [
       "dead\n",
       "0    1200\n",
       "1     633\n",
       "2     167\n",
       "3      67\n",
       "4      33\n",
       "5      16\n",
       "6       4\n",
       "7       6\n",
       "8       1\n",
       "Name: pnl, dtype: int64"
      ]
     },
     "execution_count": 27,
     "metadata": {},
     "output_type": "execute_result"
    }
   ],
   "source": [
    "groupbyD['pnl'].count()"
   ]
  },
  {
   "cell_type": "code",
   "execution_count": 30,
   "metadata": {},
   "outputs": [
    {
     "data": {
      "text/plain": [
       "dead\n",
       "0    -2861.0\n",
       "1    17702.0\n",
       "2    18187.0\n",
       "3     8478.0\n",
       "4     5423.0\n",
       "5     2406.0\n",
       "6     1128.0\n",
       "7     1246.0\n",
       "8      261.0\n",
       "Name: pnl, dtype: float64"
      ]
     },
     "execution_count": 30,
     "metadata": {},
     "output_type": "execute_result"
    }
   ],
   "source": [
    "groupbyD['pnl'].sum()"
   ]
  },
  {
   "cell_type": "code",
   "execution_count": 31,
   "metadata": {},
   "outputs": [
    {
     "data": {
      "text/plain": [
       "dead\n",
       "0     -2.384167\n",
       "1     27.965245\n",
       "2    108.904192\n",
       "3    126.537313\n",
       "4    164.333333\n",
       "5    150.375000\n",
       "6    282.000000\n",
       "7    207.666667\n",
       "8    261.000000\n",
       "Name: pnl, dtype: float64"
      ]
     },
     "execution_count": 31,
     "metadata": {},
     "output_type": "execute_result"
    }
   ],
   "source": [
    "groupbyD['pnl'].mean()"
   ]
  },
  {
   "cell_type": "code",
   "execution_count": 32,
   "metadata": {},
   "outputs": [
    {
     "data": {
      "text/plain": [
       "dead\n",
       "0    678.0\n",
       "1    545.0\n",
       "2    875.0\n",
       "3    639.0\n",
       "4    650.0\n",
       "5    310.0\n",
       "6    679.0\n",
       "7    330.0\n",
       "8    261.0\n",
       "Name: pnl, dtype: float64"
      ]
     },
     "execution_count": 32,
     "metadata": {},
     "output_type": "execute_result"
    }
   ],
   "source": [
    "groupbyD['pnl'].max()"
   ]
  },
  {
   "cell_type": "code",
   "execution_count": 33,
   "metadata": {},
   "outputs": [
    {
     "data": {
      "text/plain": [
       "dead\n",
       "0   -324.0\n",
       "1   -179.0\n",
       "2    -81.0\n",
       "3    -21.0\n",
       "4    -28.0\n",
       "5     40.0\n",
       "6     63.0\n",
       "7     95.0\n",
       "8    261.0\n",
       "Name: pnl, dtype: float64"
      ]
     },
     "execution_count": 33,
     "metadata": {},
     "output_type": "execute_result"
    }
   ],
   "source": [
    "groupbyD['pnl'].min()"
   ]
  },
  {
   "cell_type": "code",
   "execution_count": 34,
   "metadata": {},
   "outputs": [],
   "source": [
    "ret2 = pd.DataFrame({'count':groupbyD['pnl'].count(),'max':groupbyD['pnl'].max(), 'min':groupbyD['pnl'].min(),  'mean':groupbyD['pnl'].mean(), 'sum':groupbyD['pnl'].sum()})"
   ]
  },
  {
   "cell_type": "code",
   "execution_count": 35,
   "metadata": {},
   "outputs": [
    {
     "data": {
      "text/html": [
       "<div>\n",
       "<style scoped>\n",
       "    .dataframe tbody tr th:only-of-type {\n",
       "        vertical-align: middle;\n",
       "    }\n",
       "\n",
       "    .dataframe tbody tr th {\n",
       "        vertical-align: top;\n",
       "    }\n",
       "\n",
       "    .dataframe thead th {\n",
       "        text-align: right;\n",
       "    }\n",
       "</style>\n",
       "<table border=\"1\" class=\"dataframe\">\n",
       "  <thead>\n",
       "    <tr style=\"text-align: right;\">\n",
       "      <th></th>\n",
       "      <th>count</th>\n",
       "      <th>max</th>\n",
       "      <th>min</th>\n",
       "      <th>mean</th>\n",
       "      <th>sum</th>\n",
       "    </tr>\n",
       "    <tr>\n",
       "      <th>dead</th>\n",
       "      <th></th>\n",
       "      <th></th>\n",
       "      <th></th>\n",
       "      <th></th>\n",
       "      <th></th>\n",
       "    </tr>\n",
       "  </thead>\n",
       "  <tbody>\n",
       "    <tr>\n",
       "      <th>0</th>\n",
       "      <td>1200</td>\n",
       "      <td>678.0</td>\n",
       "      <td>-324.0</td>\n",
       "      <td>-2.384167</td>\n",
       "      <td>-2861.0</td>\n",
       "    </tr>\n",
       "    <tr>\n",
       "      <th>1</th>\n",
       "      <td>633</td>\n",
       "      <td>545.0</td>\n",
       "      <td>-179.0</td>\n",
       "      <td>27.965245</td>\n",
       "      <td>17702.0</td>\n",
       "    </tr>\n",
       "    <tr>\n",
       "      <th>2</th>\n",
       "      <td>167</td>\n",
       "      <td>875.0</td>\n",
       "      <td>-81.0</td>\n",
       "      <td>108.904192</td>\n",
       "      <td>18187.0</td>\n",
       "    </tr>\n",
       "    <tr>\n",
       "      <th>3</th>\n",
       "      <td>67</td>\n",
       "      <td>639.0</td>\n",
       "      <td>-21.0</td>\n",
       "      <td>126.537313</td>\n",
       "      <td>8478.0</td>\n",
       "    </tr>\n",
       "    <tr>\n",
       "      <th>4</th>\n",
       "      <td>33</td>\n",
       "      <td>650.0</td>\n",
       "      <td>-28.0</td>\n",
       "      <td>164.333333</td>\n",
       "      <td>5423.0</td>\n",
       "    </tr>\n",
       "    <tr>\n",
       "      <th>5</th>\n",
       "      <td>16</td>\n",
       "      <td>310.0</td>\n",
       "      <td>40.0</td>\n",
       "      <td>150.375000</td>\n",
       "      <td>2406.0</td>\n",
       "    </tr>\n",
       "    <tr>\n",
       "      <th>6</th>\n",
       "      <td>4</td>\n",
       "      <td>679.0</td>\n",
       "      <td>63.0</td>\n",
       "      <td>282.000000</td>\n",
       "      <td>1128.0</td>\n",
       "    </tr>\n",
       "    <tr>\n",
       "      <th>7</th>\n",
       "      <td>6</td>\n",
       "      <td>330.0</td>\n",
       "      <td>95.0</td>\n",
       "      <td>207.666667</td>\n",
       "      <td>1246.0</td>\n",
       "    </tr>\n",
       "    <tr>\n",
       "      <th>8</th>\n",
       "      <td>1</td>\n",
       "      <td>261.0</td>\n",
       "      <td>261.0</td>\n",
       "      <td>261.000000</td>\n",
       "      <td>261.0</td>\n",
       "    </tr>\n",
       "  </tbody>\n",
       "</table>\n",
       "</div>"
      ],
      "text/plain": [
       "      count    max    min        mean      sum\n",
       "dead                                          \n",
       "0      1200  678.0 -324.0   -2.384167  -2861.0\n",
       "1       633  545.0 -179.0   27.965245  17702.0\n",
       "2       167  875.0  -81.0  108.904192  18187.0\n",
       "3        67  639.0  -21.0  126.537313   8478.0\n",
       "4        33  650.0  -28.0  164.333333   5423.0\n",
       "5        16  310.0   40.0  150.375000   2406.0\n",
       "6         4  679.0   63.0  282.000000   1128.0\n",
       "7         6  330.0   95.0  207.666667   1246.0\n",
       "8         1  261.0  261.0  261.000000    261.0"
      ]
     },
     "execution_count": 35,
     "metadata": {},
     "output_type": "execute_result"
    }
   ],
   "source": [
    "ret2"
   ]
  },
  {
   "cell_type": "code",
   "execution_count": 36,
   "metadata": {},
   "outputs": [],
   "source": [
    "ret2.to_excel('基于绿柱统计结果.xlsx')"
   ]
  },
  {
   "cell_type": "code",
   "execution_count": 37,
   "metadata": {},
   "outputs": [
    {
     "name": "stdout",
     "output_type": "stream",
     "text": [
      "_diff\n",
      "(-0.683, 13.66]       5.624277\n",
      "(13.66, 27.32]       20.448819\n",
      "(27.32, 40.98]       59.725100\n",
      "(40.98, 54.64]       40.981424\n",
      "(54.64, 68.3]        41.220065\n",
      "(68.3, 81.96]        15.813187\n",
      "(81.96, 95.62]       19.270531\n",
      "(95.62, 109.28]      -1.686667\n",
      "(109.28, 122.94]     18.843373\n",
      "(122.94, 136.6]     -13.653333\n",
      "(136.6, 150.26]       7.058824\n",
      "(150.26, 163.92]     16.080000\n",
      "(163.92, 177.58]      6.095238\n",
      "(177.58, 191.24]    -29.611111\n",
      "(191.24, 204.9]     -44.857143\n",
      "(204.9, 218.56]      44.777778\n",
      "(218.56, 232.22]    -66.000000\n",
      "(232.22, 245.88]    126.000000\n",
      "(245.88, 259.54]    -69.000000\n",
      "(259.54, 273.2]    -106.000000\n",
      "(273.2, 286.86]     -58.000000\n",
      "(286.86, 300.52]   -156.000000\n",
      "(300.52, 314.18]           NaN\n",
      "(314.18, 327.84]           NaN\n",
      "(327.84, 341.5]     278.000000\n",
      "(341.5, 355.16]     -32.000000\n",
      "(355.16, 368.82]           NaN\n",
      "(368.82, 382.48]           NaN\n",
      "(382.48, 396.14]           NaN\n",
      "(396.14, 409.8]            NaN\n",
      "(409.8, 423.46]            NaN\n",
      "(423.46, 437.12]           NaN\n",
      "(437.12, 450.78]           NaN\n",
      "(450.78, 464.44]           NaN\n",
      "(464.44, 478.1]            NaN\n",
      "(478.1, 491.76]            NaN\n",
      "(491.76, 505.42]           NaN\n",
      "(505.42, 519.08]           NaN\n",
      "(519.08, 532.74]           NaN\n",
      "(532.74, 546.4]            NaN\n",
      "(546.4, 560.06]            NaN\n",
      "(560.06, 573.72]           NaN\n",
      "(573.72, 587.38]           NaN\n",
      "(587.38, 601.04]           NaN\n",
      "(601.04, 614.7]            NaN\n",
      "(614.7, 628.36]            NaN\n",
      "(628.36, 642.02]           NaN\n",
      "(642.02, 655.68]           NaN\n",
      "(655.68, 669.34]           NaN\n",
      "(669.34, 683.0]    -324.000000\n",
      "Name: pnl, dtype: float64\n"
     ]
    },
    {
     "data": {
      "text/plain": [
       "<BarContainer object of 50 artists>"
      ]
     },
     "execution_count": 37,
     "metadata": {},
     "output_type": "execute_result"
    },
    {
     "data": {
      "image/png": "[encoded data removed]",
      "text/plain": [
       "<Figure size 432x288 with 1 Axes>"
      ]
     },
     "metadata": {
      "needs_background": "light"
     },
     "output_type": "display_data"
    }
   ],
   "source": [
    "#最值和收盘价的偏离情况\n",
    "grouped_by_diff=total_results_df.groupby(pd.cut(total_results_df['_diff'],bins=50))\n",
    "print(grouped_by_diff.pnl.mean())\n",
    "plt.bar(range(len(grouped_by_diff.pnl.mean())),grouped_by_diff.pnl.mean())"
   ]
  },
  {
   "cell_type": "code",
   "execution_count": null,
   "metadata": {},
   "outputs": [],
   "source": []
  }
 ],
 "metadata": {
  "kernelspec": {
   "display_name": "Python 3",
   "language": "python",
   "name": "python3"
  },
  "language_info": {
   "codemirror_mode": {
    "name": "ipython",
    "version": 3
   },
   "file_extension": ".py",
   "mimetype": "text/x-python",
   "name": "python",
   "nbconvert_exporter": "python",
   "pygments_lexer": "ipython3",
   "version": "3.7.3"
  }
 },
 "nbformat": 4,
 "nbformat_minor": 2
}
